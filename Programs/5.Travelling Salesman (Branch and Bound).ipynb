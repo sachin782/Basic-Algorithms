{
 "cells": [
  {
   "cell_type": "markdown",
   "metadata": {},
   "source": [
    "Travelling Salesman Problem (Branch and Bound)"
   ]
  },
  {
   "cell_type": "code",
   "execution_count": 1,
   "metadata": {},
   "outputs": [],
   "source": [
    "def row_red(ipmatrix):\n",
    "    n = len(ipmatrix)\n",
    "    c = 0\n",
    "    for i in range(n):\n",
    "        m = 999\n",
    "        for j in range(n):\n",
    "            if m > ipmatrix[i][j] and ipmatrix[i][j] != -1:\n",
    "                m = ipmatrix[i][j]\n",
    "        if m == 999:\n",
    "            m = 0\n",
    "        c = c + m\n",
    "        for k in range(n):\n",
    "            if ipmatrix[i][k] != -1:\n",
    "                ipmatrix[i][k] = ipmatrix[i][k] - m\n",
    "    return c,ipmatrix       "
   ]
  },
  {
   "cell_type": "code",
   "execution_count": 2,
   "metadata": {},
   "outputs": [],
   "source": [
    "def col_red(ipmatrix):\n",
    "    n = len(ipmatrix)\n",
    "    c = 0\n",
    "    for i in range(n):\n",
    "        m=999\n",
    "        for j in range(n):\n",
    "            if m > ipmatrix[j][i] and ipmatrix[j][i] != -1:\n",
    "                m = ipmatrix[j][i]\n",
    "        if m == 999:\n",
    "            m = 0\n",
    "        c = c + m\n",
    "        for k in range(n):\n",
    "            if ipmatrix[k][i] != -1:\n",
    "                ipmatrix[k][i] = ipmatrix[k][i] - m\n",
    "    return c,ipmatrix"
   ]
  },
  {
   "cell_type": "code",
   "execution_count": 3,
   "metadata": {},
   "outputs": [],
   "source": [
    "def cost_hat(ipmatrix,i,j,c):\n",
    "    cost = c + ipmatrix[i][j]\n",
    "    n = len(ipmatrix)\n",
    "    for a in range(n):\n",
    "        ipmatrix[i][a] = -1\n",
    "        ipmatrix[a][j] = -1\n",
    "    c1,ipmatrix = row_red(ipmatrix)\n",
    "    c2,ipmatrix = col_red(ipmatrix)\n",
    "    cost = cost + c1 + c2\n",
    "    return cost,ipmatrix"
   ]
  },
  {
   "cell_type": "code",
   "execution_count": 4,
   "metadata": {},
   "outputs": [
    {
     "name": "stdout",
     "output_type": "stream",
     "text": [
      "[35, 34, 34, 34, 34]\n",
      "[0, 1, 2, 2, 2, 2]\n"
     ]
    }
   ],
   "source": [
    "#Define the input adjacency weight matrix nxn\n",
    "#adj = [[-1,2,3,4],[3,-1,1,4],[6,4,-1,9],[3,2,5,-1]]\n",
    "adj = [[-1,20,30,10,11],[15,-1,16,4,2],[3,5,-1,2,4],[19,6,18,-1,3],[16,4,7,16,-1]]\n",
    "#Reduce the row and column and choose the branches : n-1 iterations\n",
    "costs = [0,0,0,0,0] #Update this after every iteration\n",
    "outnodes=[0]\n",
    "c_prev = 0\n",
    "l = 0\n",
    "c = 999\n",
    "n = len(adj)\n",
    "o = 0\n",
    "k = 0\n",
    "for i in range(n):\n",
    "    ipmatrix = adj # Reassign this after every iteration\n",
    "    #Reduce the matrix\n",
    "    c1,ipmatrix = row_red(ipmatrix)\n",
    "    c2,ipmatrix = col_red(ipmatrix)\n",
    "    if o == 0:\n",
    "        costs[i] = c1 + c2\n",
    "    else:\n",
    "        costs[i] = costs[i-1]\n",
    "    #Compute cost of the branch\n",
    "    #Cost = C(source,destination) + C(node)+ C(reduction)\n",
    "    #Choose the next input matrix according to the lowest cost\n",
    "    for j in range(n):\n",
    "        if j not in outnodes:\n",
    "            c_prev = c\n",
    "            c,ipmatrix = cost_hat(ipmatrix,o,j,costs[i])\n",
    "            if c_prev > k:\n",
    "                k = c\n",
    "                adj = ipmatrix\n",
    "                l=j\n",
    "    o = l\n",
    "    outnodes.append(l)\n",
    "    costs[i] = k\n",
    "print(costs)\n",
    "print(outnodes)\n",
    "#Expected outnodes - Order of visit and total cost of visit"
   ]
  },
  {
   "cell_type": "markdown",
   "metadata": {},
   "source": [
    "Submitted By:<br>Sachin Rawat<br>RA1912039010003"
   ]
  }
 ],
 "metadata": {
  "kernelspec": {
   "display_name": "Python 3",
   "language": "python",
   "name": "python3"
  },
  "language_info": {
   "codemirror_mode": {
    "name": "ipython",
    "version": 3
   },
   "file_extension": ".py",
   "mimetype": "text/x-python",
   "name": "python",
   "nbconvert_exporter": "python",
   "pygments_lexer": "ipython3",
   "version": "3.7.3"
  }
 },
 "nbformat": 4,
 "nbformat_minor": 2
}
