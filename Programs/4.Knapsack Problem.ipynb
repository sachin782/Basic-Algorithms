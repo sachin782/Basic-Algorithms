{
 "cells": [
  {
   "cell_type": "markdown",
   "metadata": {},
   "source": [
    "Binary Knapsack (Dynamic programming approach)"
   ]
  },
  {
   "cell_type": "code",
   "execution_count": 1,
   "metadata": {},
   "outputs": [
    {
     "name": "stdout",
     "output_type": "stream",
     "text": [
      "Table is:\n",
      "[[0, 0, 0, 0], [0, 2, 2, 2], [0, 2, 3, 5], [0, 2, 3, 5]]\n",
      "Max profit = 5\n"
     ]
    }
   ],
   "source": [
    "def knapsack_dynamic(values,weights,n,m):\n",
    "    positions = [[0 for x in range(m + 1)] for x in range(n + 1)] \n",
    "    for i in range(n + 1): \n",
    "        for j in range(m + 1): \n",
    "            if i == 0 or j == 0: \n",
    "                positions[i][j] = 0\n",
    "            elif weights[i-1] <= j: \n",
    "                positions[i][j] = max(values[i-1]  + positions[i-1][j-weights[i-1]],  positions[i-1][j]) \n",
    "            else: \n",
    "                positions[i][j] = positions[i-1][j] \n",
    "    return positions\n",
    "\n",
    "values = [2,3,4]\n",
    "weights = [1,2,3]\n",
    "n = 3\n",
    "m = 3\n",
    "print('Table is:')\n",
    "table =  knapsack_dynamic(values,weights,n,m)\n",
    "print(table)\n",
    "print('Max profit =',table[n][m])"
   ]
  },
  {
   "cell_type": "markdown",
   "metadata": {},
   "source": [
    "Fractional Knapsack (Greedy method)"
   ]
  },
  {
   "cell_type": "code",
   "execution_count": 2,
   "metadata": {},
   "outputs": [
    {
     "name": "stdout",
     "output_type": "stream",
     "text": [
      "Fraction of items are: [0.5, 1, 1]\n",
      "Profit = 5.5\n"
     ]
    }
   ],
   "source": [
    "def fractional_knapsack(n,weight,profit):\n",
    "    index = list(range(len(profit)))\n",
    "    ratio = [p/w for p,w in zip(profit,weight)]\n",
    "    index.sort(key = lambda i: ratio[i], reverse=True)\n",
    "    p = 0\n",
    "    items = [0]*len(profit)\n",
    "    for i in index:\n",
    "        if weight[i] <= n:\n",
    "            items[i] = 1\n",
    "            p += profit[i]\n",
    "            n -= weight[i]\n",
    "        else:\n",
    "            items[i] = n / weight[i]\n",
    "            p += profit[i] * items[i]\n",
    "            break\n",
    "    return items,p\n",
    "\n",
    "n = 8\n",
    "weight = [2,3,4]\n",
    "profit = [1,2,3]\n",
    "l,p = fractional_knapsack(n,weight,profit)\n",
    "print('Fraction of items are:',l)\n",
    "print('Profit =',p)"
   ]
  },
  {
   "cell_type": "markdown",
   "metadata": {},
   "source": [
    "Submitted By:<br>Sachin Rawat<br>RA1912039010003"
   ]
  }
 ],
 "metadata": {
  "kernelspec": {
   "display_name": "Python 3",
   "language": "python",
   "name": "python3"
  },
  "language_info": {
   "codemirror_mode": {
    "name": "ipython",
    "version": 3
   },
   "file_extension": ".py",
   "mimetype": "text/x-python",
   "name": "python",
   "nbconvert_exporter": "python",
   "pygments_lexer": "ipython3",
   "version": "3.7.3"
  }
 },
 "nbformat": 4,
 "nbformat_minor": 2
}
